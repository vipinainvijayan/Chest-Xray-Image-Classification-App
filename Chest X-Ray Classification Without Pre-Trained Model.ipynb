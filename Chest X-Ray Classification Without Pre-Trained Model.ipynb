{
 "cells": [
  {
   "cell_type": "code",
   "execution_count": 1,
   "metadata": {},
   "outputs": [],
   "source": [
    "import numpy as np\n",
    "import os \n",
    "import pandas as pd\n",
    "import cv2\n",
    "import tensorflow as tf\n",
    "import matplotlib.pyplot as plt\n",
    "from tensorflow import keras\n",
    "from tensorflow.keras import layers, models, optimizers\n",
    "from tensorflow.keras.applications import EfficientNetB0\n",
    "from tensorflow.keras.preprocessing.image import ImageDataGenerator\n",
    "from tensorflow.keras.layers import Input, Dense, Flatten, GlobalAveragePooling2D\n",
    "from sklearn.metrics import classification_report, confusion_matrix, accuracy_score"
   ]
  },
  {
   "cell_type": "code",
   "execution_count": 2,
   "metadata": {},
   "outputs": [],
   "source": [
    "data_dir = '/home/vipinainvijayan4286/Data/train'"
   ]
  },
  {
   "cell_type": "code",
   "execution_count": 3,
   "metadata": {},
   "outputs": [],
   "source": [
    "data = ImageDataGenerator(validation_split = 0.20,rotation_range=20,)"
   ]
  },
  {
   "cell_type": "code",
   "execution_count": 4,
   "metadata": {},
   "outputs": [
    {
     "name": "stdout",
     "output_type": "stream",
     "text": [
      "Found 4116 images belonging to 3 classes.\n"
     ]
    }
   ],
   "source": [
    "train_ds = data.flow_from_directory(data_dir,class_mode = \"categorical\",\n",
    "                                    target_size = (229, 229),\n",
    "                                    batch_size = 32,\n",
    "                                    shuffle = True,subset='training',seed = 42)"
   ]
  },
  {
   "cell_type": "code",
   "execution_count": 5,
   "metadata": {},
   "outputs": [
    {
     "name": "stdout",
     "output_type": "stream",
     "text": [
      "Found 1028 images belonging to 3 classes.\n"
     ]
    }
   ],
   "source": [
    "validation = data.flow_from_directory(data_dir,class_mode = \"categorical\",target_size = (229, 229),batch_size = 32,shuffle = True,subset='validation',seed = 42)"
   ]
  },
  {
   "cell_type": "code",
   "execution_count": 14,
   "metadata": {},
   "outputs": [],
   "source": [
    "model = keras.models.Sequential([\n",
    "    keras.layers.Flatten(input_shape=[229,229,3]),\n",
    "    keras.layers.Dense(300, input_shape=(4,), activation=\"relu\"),\n",
    "    keras.layers.Dropout(rate=0.2),\n",
    "    keras.layers.Dense(100, activation=\"relu\", kernel_initializer=\"he_normal\"),\n",
    "    keras.layers.Dropout(rate=0.2),\n",
    "    keras.layers.Dense(500, activation=\"relu\", kernel_initializer=\"he_normal\"),\n",
    "    keras.layers.Dropout(rate=0.2),    \n",
    "    keras.layers.Dense(500, activation=\"relu\", kernel_initializer=\"he_normal\"),\n",
    "    keras.layers.Dropout(rate=0.2),\n",
    "    keras.layers.Dense(3, activation=\"softmax\")\n",
    "])"
   ]
  },
  {
   "cell_type": "code",
   "execution_count": 15,
   "metadata": {},
   "outputs": [],
   "source": [
    "model.compile(loss=\"categorical_crossentropy\",\n",
    "      optimizer=\"adam\",\n",
    "      metrics=[\"accuracy\"])"
   ]
  },
  {
   "cell_type": "code",
   "execution_count": 16,
   "metadata": {},
   "outputs": [
    {
     "name": "stdout",
     "output_type": "stream",
     "text": [
      "Model: \"sequential_6\"\n",
      "_________________________________________________________________\n",
      "Layer (type)                 Output Shape              Param #   \n",
      "=================================================================\n",
      "flatten_6 (Flatten)          (None, 157323)            0         \n",
      "_________________________________________________________________\n",
      "dense_29 (Dense)             (None, 300)               47197200  \n",
      "_________________________________________________________________\n",
      "dropout_23 (Dropout)         (None, 300)               0         \n",
      "_________________________________________________________________\n",
      "dense_30 (Dense)             (None, 100)               30100     \n",
      "_________________________________________________________________\n",
      "dropout_24 (Dropout)         (None, 100)               0         \n",
      "_________________________________________________________________\n",
      "dense_31 (Dense)             (None, 500)               50500     \n",
      "_________________________________________________________________\n",
      "dropout_25 (Dropout)         (None, 500)               0         \n",
      "_________________________________________________________________\n",
      "dense_32 (Dense)             (None, 500)               250500    \n",
      "_________________________________________________________________\n",
      "dropout_26 (Dropout)         (None, 500)               0         \n",
      "_________________________________________________________________\n",
      "dense_33 (Dense)             (None, 3)                 1503      \n",
      "=================================================================\n",
      "Total params: 47,529,803\n",
      "Trainable params: 47,529,803\n",
      "Non-trainable params: 0\n",
      "_________________________________________________________________\n"
     ]
    }
   ],
   "source": [
    "model.summary()"
   ]
  },
  {
   "cell_type": "code",
   "execution_count": 10,
   "metadata": {},
   "outputs": [
    {
     "name": "stdout",
     "output_type": "stream",
     "text": [
      "Epoch 1/15\n",
      "129/129 [==============================] - 333s 3s/step - loss: 4360.9922 - accuracy: 0.5724 - val_loss: 0.9013 - val_accuracy: 0.7014\n",
      "Epoch 2/15\n",
      "129/129 [==============================] - 344s 3s/step - loss: 31.3620 - accuracy: 0.6635 - val_loss: 0.8362 - val_accuracy: 0.6644\n",
      "Epoch 3/15\n",
      "129/129 [==============================] - 364s 3s/step - loss: 52.3008 - accuracy: 0.6603 - val_loss: 0.8332 - val_accuracy: 0.6634\n",
      "Epoch 4/15\n",
      "129/129 [==============================] - 354s 3s/step - loss: 0.9880 - accuracy: 0.6652 - val_loss: 0.8314 - val_accuracy: 0.6654\n",
      "Epoch 5/15\n",
      "129/129 [==============================] - 348s 3s/step - loss: 0.8944 - accuracy: 0.6647 - val_loss: 0.8329 - val_accuracy: 0.6644\n",
      "Epoch 6/15\n",
      "129/129 [==============================] - 361s 3s/step - loss: 0.8344 - accuracy: 0.6645 - val_loss: 0.8329 - val_accuracy: 0.6644\n",
      "Epoch 7/15\n",
      "129/129 [==============================] - 368s 3s/step - loss: 33.2936 - accuracy: 0.6638 - val_loss: 0.8345 - val_accuracy: 0.6644\n",
      "Epoch 8/15\n",
      "129/129 [==============================] - 354s 3s/step - loss: 0.8338 - accuracy: 0.6645 - val_loss: 0.8332 - val_accuracy: 0.6644\n",
      "Epoch 9/15\n",
      "129/129 [==============================] - 345s 3s/step - loss: 0.8338 - accuracy: 0.6645 - val_loss: 0.8329 - val_accuracy: 0.6644\n",
      "Epoch 10/15\n",
      "129/129 [==============================] - 344s 3s/step - loss: 0.8344 - accuracy: 0.6645 - val_loss: 0.8327 - val_accuracy: 0.6644\n",
      "Epoch 11/15\n",
      "129/129 [==============================] - 353s 3s/step - loss: 0.8340 - accuracy: 0.6645 - val_loss: 0.8330 - val_accuracy: 0.6644\n",
      "Epoch 12/15\n",
      "129/129 [==============================] - 349s 3s/step - loss: 0.8340 - accuracy: 0.6645 - val_loss: 0.8330 - val_accuracy: 0.6644\n",
      "Epoch 13/15\n",
      "129/129 [==============================] - 322s 2s/step - loss: 0.8336 - accuracy: 0.6645 - val_loss: 0.8332 - val_accuracy: 0.6644\n",
      "Epoch 14/15\n",
      "129/129 [==============================] - 332s 3s/step - loss: 0.8333 - accuracy: 0.6645 - val_loss: 0.8328 - val_accuracy: 0.6644\n",
      "Epoch 15/15\n",
      "129/129 [==============================] - 343s 3s/step - loss: 0.8329 - accuracy: 0.6645 - val_loss: 0.8332 - val_accuracy: 0.6644\n"
     ]
    }
   ],
   "source": [
    "history = model.fit(train_ds,epochs=10,verbose=1,validation_data = validation)"
   ]
  },
  {
   "cell_type": "code",
   "execution_count": 13,
   "metadata": {},
   "outputs": [
    {
     "name": "stdout",
     "output_type": "stream",
     "text": [
      "Found 1288 images belonging to 3 classes.\n"
     ]
    }
   ],
   "source": [
    "test_folder_path = \"/home/vipinainvijayan4286/Data/test\"\n",
    "datagen = ImageDataGenerator()\n",
    "test_generator = datagen.flow_from_directory(test_folder_path,target_size=(229, 229),batch_size=32,shuffle=False,)"
   ]
  },
  {
   "cell_type": "code",
   "execution_count": 14,
   "metadata": {},
   "outputs": [],
   "source": [
    "predictions=model.predict(test_generator)"
   ]
  },
  {
   "cell_type": "code",
   "execution_count": null,
   "metadata": {},
   "outputs": [],
   "source": [
    "# Extracting training and validation metrics from the history object\n",
    "    train_acc = history.history['accuracy']\n",
    "    val_acc = history.history['val_accuracy']\n",
    "    train_loss = history.history['loss']\n",
    "    val_loss = history.history['val_loss']\n",
    "\n",
    "    epochs = range(1, len(train_acc) + 1)\n",
    "\n",
    "    # Plotting accuracy\n",
    "    plt.figure(figsize=(12, 4))\n",
    "    plt.subplot(1, 2, 1)\n",
    "    plt.plot(epochs, train_acc, 'b', label='Training accuracy')\n",
    "    plt.plot(epochs, val_acc, 'r', label='Validation accuracy')\n",
    "    plt.title('Training and Validation Accuracy')\n",
    "    plt.xlabel('Epochs')\n",
    "    plt.ylabel('Accuracy')\n",
    "    plt.legend()\n",
    "\n",
    "    # Plotting loss\n",
    "    plt.subplot(1, 2, 2)\n",
    "    plt.plot(epochs, train_loss, 'b', label='Training loss')\n",
    "    plt.plot(epochs, val_loss, 'r', label='Validation loss')\n",
    "    plt.title('Training and Validation Loss')\n",
    "    plt.xlabel('Epochs')\n",
    "    plt.ylabel('Loss')\n",
    "    plt.legend()\n",
    "\n",
    "    plt.tight_layout()\n",
    "    plt.show()"
   ]
  },
  {
   "cell_type": "code",
   "execution_count": 15,
   "metadata": {},
   "outputs": [
    {
     "data": {
      "image/png": "[encoded data removed]",
      "text/plain": [
       "<Figure size 576x432 with 2 Axes>"
      ]
     },
     "metadata": {
      "needs_background": "light"
     },
     "output_type": "display_data"
    },
    {
     "name": "stdout",
     "output_type": "stream",
     "text": [
      "Classification Report:\n",
      "               precision    recall  f1-score   support\n",
      "\n",
      "     COVID19       0.00      0.00      0.00       116\n",
      "      NORMAL       0.00      0.00      0.00       317\n",
      "   PNEUMONIA       0.66      1.00      0.80       855\n",
      "\n",
      "    accuracy                           0.66      1288\n",
      "   macro avg       0.22      0.33      0.27      1288\n",
      "weighted avg       0.44      0.66      0.53      1288\n",
      "\n"
     ]
    },
    {
     "name": "stderr",
     "output_type": "stream",
     "text": [
      "/usr/local/anaconda/lib/python3.6/site-packages/sklearn/metrics/_classification.py:1272: UndefinedMetricWarning: Precision and F-score are ill-defined and being set to 0.0 in labels with no predicted samples. Use `zero_division` parameter to control this behavior.\n",
      "  _warn_prf(average, modifier, msg_start, len(result))\n"
     ]
    }
   ],
   "source": [
    "from sklearn.metrics import confusion_matrix, classification_report\n",
    "import seaborn as sns\n",
    "import matplotlib.pyplot as plt\n",
    "\n",
    "\n",
    "# Get true labels\n",
    "true_labels = test_generator.classes\n",
    "\n",
    "# Use the model to predict the classes\n",
    "predicted_labels = np.argmax(model.predict(test_generator), axis=1)\n",
    "\n",
    "# Generate confusion matrix\n",
    "cm = confusion_matrix(true_labels, predicted_labels)\n",
    "\n",
    "# Display confusion matrix\n",
    "plt.figure(figsize=(8, 6))\n",
    "sns.heatmap(cm, annot=True, fmt='d', cmap='Blues', xticklabels=test_generator.class_indices.keys(), yticklabels=test_generator.class_indices.keys())\n",
    "plt.title('Confusion Matrix')\n",
    "plt.xlabel('Predicted')\n",
    "plt.ylabel('True')\n",
    "plt.show()\n",
    "\n",
    "# Display classification report\n",
    "print(\"Classification Report:\\n\", classification_report(true_labels, predicted_labels, target_names=test_generator.class_indices.keys()))"
   ]
  },
  {
   "cell_type": "code",
   "execution_count": null,
   "metadata": {},
   "outputs": [],
   "source": []
  }
 ],
 "metadata": {
  "kernelspec": {
   "display_name": "Python 3",
   "language": "python",
   "name": "python3"
  },
  "language_info": {
   "codemirror_mode": {
    "name": "ipython",
    "version": 3
   },
   "file_extension": ".py",
   "mimetype": "text/x-python",
   "name": "python",
   "nbconvert_exporter": "python",
   "pygments_lexer": "ipython3",
   "version": "3.6.8"
  },
  "toc": {
   "base_numbering": 1,
   "nav_menu": {},
   "number_sections": true,
   "sideBar": true,
   "skip_h1_title": false,
   "title_cell": "Table of Contents",
   "title_sidebar": "Contents",
   "toc_cell": false,
   "toc_position": {},
   "toc_section_display": true,
   "toc_window_display": false
  }
 },
 "nbformat": 4,
 "nbformat_minor": 2
}
